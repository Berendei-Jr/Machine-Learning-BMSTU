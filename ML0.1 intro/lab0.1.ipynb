{
 "cells": [
  {
   "cell_type": "code",
   "execution_count": 1,
   "metadata": {},
   "outputs": [],
   "source": [
    "import numpy as np\n",
    "import pandas as pd\n",
    "import matplotlib.pyplot as plt\n",
    "import seaborn as sns\n",
    "from prettytable import PrettyTable"
   ]
  },
  {
   "cell_type": "code",
   "execution_count": 2,
   "metadata": {},
   "outputs": [
    {
     "name": "stdout",
     "output_type": "stream",
     "text": [
      "+----+----+----+----+----+----+----+----+----+----+-----+\n",
      "| \\  | 1  | 2  | 3  | 4  | 5  | 6  | 7  | 8  | 9  |  10 |\n",
      "+----+----+----+----+----+----+----+----+----+----+-----+\n",
      "| 1  | 1  | 2  | 3  | 4  | 5  | 6  | 7  | 8  | 9  |  10 |\n",
      "| 2  | 2  | 4  | 6  | 8  | 10 | 12 | 14 | 16 | 18 |  20 |\n",
      "| 3  | 3  | 6  | 9  | 12 | 15 | 18 | 21 | 24 | 27 |  30 |\n",
      "| 4  | 4  | 8  | 12 | 16 | 20 | 24 | 28 | 32 | 36 |  40 |\n",
      "| 5  | 5  | 10 | 15 | 20 | 25 | 30 | 35 | 40 | 45 |  50 |\n",
      "| 6  | 6  | 12 | 18 | 24 | 30 | 36 | 42 | 48 | 54 |  60 |\n",
      "| 7  | 7  | 14 | 21 | 28 | 35 | 42 | 49 | 56 | 63 |  70 |\n",
      "| 8  | 8  | 16 | 24 | 32 | 40 | 48 | 56 | 64 | 72 |  80 |\n",
      "| 9  | 9  | 18 | 27 | 36 | 45 | 54 | 63 | 72 | 81 |  90 |\n",
      "| 10 | 10 | 20 | 30 | 40 | 50 | 60 | 70 | 80 | 90 | 100 |\n",
      "+----+----+----+----+----+----+----+----+----+----+-----+\n"
     ]
    }
   ],
   "source": [
    "# 1) Таблица умножения\n",
    "table = PrettyTable()\n",
    "numbers = np.arange(1, 11)\n",
    "table.field_names = [\"\\\\\"] + [str(n) for n in numbers]\n",
    "for vertical_num in numbers:\n",
    "    table.add_row(\n",
    "        [vertical_num] + [vertical_num * horizontal_num for horizontal_num in numbers])\n",
    "print(table)\n"
   ]
  },
  {
   "cell_type": "code",
   "execution_count": 3,
   "metadata": {},
   "outputs": [
    {
     "name": "stdout",
     "output_type": "stream",
     "text": [
      "[[0. 0. 0. 0. 0.]\n",
      " [0. 0. 0. 0. 0.]\n",
      " [0. 0. 0. 0. 0.]\n",
      " [0. 0. 0. 0. 0.]\n",
      " [0. 0. 0. 0. 0.]]\n"
     ]
    }
   ],
   "source": [
    "# 2) Создайте функцию, которая принимает как аргументы целое число N и первый элемент (вещественное число),\n",
    "# и разность (вещественное число) и создает матрицу numpy по диагонали, которой располагаются первые N членов\n",
    "# арифметической прогрессии.\n",
    "def arithmetic_progression(n: int, first_el: float, step: float):\n",
    "    matrix = np.zeros((n, n))\n",
    "    for i in range()\n",
    "        \n",
    "\n",
    "    print(matrix)\n",
    "\n",
    "foo(5, 0)\n"
   ]
  },
  {
   "cell_type": "code",
   "execution_count": null,
   "metadata": {},
   "outputs": [],
   "source": []
  },
  {
   "cell_type": "code",
   "execution_count": null,
   "metadata": {},
   "outputs": [],
   "source": []
  }
 ],
 "metadata": {
  "kernelspec": {
   "display_name": "venv",
   "language": "python",
   "name": "python3"
  },
  "language_info": {
   "codemirror_mode": {
    "name": "ipython",
    "version": 3
   },
   "file_extension": ".py",
   "mimetype": "text/x-python",
   "name": "python",
   "nbconvert_exporter": "python",
   "pygments_lexer": "ipython3",
   "version": "3.12.6"
  }
 },
 "nbformat": 4,
 "nbformat_minor": 2
}
