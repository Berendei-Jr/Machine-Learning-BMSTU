{
 "cells": [
  {
   "cell_type": "code",
   "execution_count": 75,
   "metadata": {},
   "outputs": [],
   "source": [
    "import numpy as np\n",
    "import pandas as pd\n",
    "import matplotlib.pyplot as plt\n",
    "import seaborn as sns"
   ]
  },
  {
   "cell_type": "code",
   "execution_count": 76,
   "metadata": {},
   "outputs": [
    {
     "data": {
      "text/html": [
       "<div>\n",
       "<style scoped>\n",
       "    .dataframe tbody tr th:only-of-type {\n",
       "        vertical-align: middle;\n",
       "    }\n",
       "\n",
       "    .dataframe tbody tr th {\n",
       "        vertical-align: top;\n",
       "    }\n",
       "\n",
       "    .dataframe thead th {\n",
       "        text-align: right;\n",
       "    }\n",
       "</style>\n",
       "<table border=\"1\" class=\"dataframe\">\n",
       "  <thead>\n",
       "    <tr style=\"text-align: right;\">\n",
       "      <th></th>\n",
       "      <th>№ школы</th>\n",
       "      <th>Класс</th>\n",
       "      <th>Пол</th>\n",
       "      <th>Номер варианта</th>\n",
       "      <th>Задания с кратким ответом</th>\n",
       "      <th>Задания с развёрнутым ответом</th>\n",
       "      <th>Первичный балл</th>\n",
       "      <th>Балл</th>\n",
       "      <th>Минимальный балл</th>\n",
       "    </tr>\n",
       "  </thead>\n",
       "  <tbody>\n",
       "    <tr>\n",
       "      <th>0</th>\n",
       "      <td>124.0</td>\n",
       "      <td>11</td>\n",
       "      <td>Ж</td>\n",
       "      <td>341.0</td>\n",
       "      <td>------+-----</td>\n",
       "      <td>0(2)0(2)0(2)0(3)0(3)0(4)0(4)</td>\n",
       "      <td>1.0</td>\n",
       "      <td>5.0</td>\n",
       "      <td>27.0</td>\n",
       "    </tr>\n",
       "    <tr>\n",
       "      <th>1</th>\n",
       "      <td>128.0</td>\n",
       "      <td>11</td>\n",
       "      <td>Ж</td>\n",
       "      <td>345.0</td>\n",
       "      <td>-+----------</td>\n",
       "      <td>0(2)0(2)0(2)0(3)0(3)0(4)0(4)</td>\n",
       "      <td>1.0</td>\n",
       "      <td>5.0</td>\n",
       "      <td>27.0</td>\n",
       "    </tr>\n",
       "    <tr>\n",
       "      <th>2</th>\n",
       "      <td>132.0</td>\n",
       "      <td>11</td>\n",
       "      <td>Ж</td>\n",
       "      <td>340.0</td>\n",
       "      <td>-+----------</td>\n",
       "      <td>0(2)0(2)0(2)0(3)0(3)0(4)0(4)</td>\n",
       "      <td>1.0</td>\n",
       "      <td>5.0</td>\n",
       "      <td>27.0</td>\n",
       "    </tr>\n",
       "    <tr>\n",
       "      <th>3</th>\n",
       "      <td>134.0</td>\n",
       "      <td>11</td>\n",
       "      <td>Ж</td>\n",
       "      <td>339.0</td>\n",
       "      <td>-+----------</td>\n",
       "      <td>0(2)0(2)0(2)0(3)0(3)0(4)0(4)</td>\n",
       "      <td>1.0</td>\n",
       "      <td>5.0</td>\n",
       "      <td>27.0</td>\n",
       "    </tr>\n",
       "    <tr>\n",
       "      <th>4</th>\n",
       "      <td>136.0</td>\n",
       "      <td>11</td>\n",
       "      <td>Ж</td>\n",
       "      <td>348.0</td>\n",
       "      <td>--------+---</td>\n",
       "      <td>0(2)0(2)0(2)0(3)0(3)0(4)0(4)</td>\n",
       "      <td>1.0</td>\n",
       "      <td>5.0</td>\n",
       "      <td>27.0</td>\n",
       "    </tr>\n",
       "  </tbody>\n",
       "</table>\n",
       "</div>"
      ],
      "text/plain": [
       "   № школы Класс Пол  Номер варианта Задания с кратким ответом  \\\n",
       "0    124.0    11   Ж           341.0              ------+-----   \n",
       "1    128.0    11   Ж           345.0              -+----------   \n",
       "2    132.0    11   Ж           340.0              -+----------   \n",
       "3    134.0    11   Ж           339.0              -+----------   \n",
       "4    136.0    11   Ж           348.0              --------+---   \n",
       "\n",
       "  Задания с развёрнутым ответом  Первичный балл  Балл  Минимальный балл  \n",
       "0  0(2)0(2)0(2)0(3)0(3)0(4)0(4)             1.0   5.0              27.0  \n",
       "1  0(2)0(2)0(2)0(3)0(3)0(4)0(4)             1.0   5.0              27.0  \n",
       "2  0(2)0(2)0(2)0(3)0(3)0(4)0(4)             1.0   5.0              27.0  \n",
       "3  0(2)0(2)0(2)0(3)0(3)0(4)0(4)             1.0   5.0              27.0  \n",
       "4  0(2)0(2)0(2)0(3)0(3)0(4)0(4)             1.0   5.0              27.0  "
      ]
     },
     "execution_count": 76,
     "metadata": {},
     "output_type": "execute_result"
    }
   ],
   "source": [
    "# Загрузите данные по вариантам в ноутбук.\n",
    "df = pd.read_excel(\"data/Вариант 2.xlsx\", header=2, usecols=lambda x: (x != \"№\" and x != \"Устная часть\"))\n",
    "df.head(5)"
   ]
  },
  {
   "cell_type": "code",
   "execution_count": 77,
   "metadata": {},
   "outputs": [
    {
     "name": "stdout",
     "output_type": "stream",
     "text": [
      "<class 'pandas.core.frame.DataFrame'>\n",
      "RangeIndex: 2356 entries, 0 to 2355\n",
      "Data columns (total 8 columns):\n",
      " #   Column                         Non-Null Count  Dtype \n",
      "---  ------                         --------------  ----- \n",
      " 0   № школы                        2356 non-null   int64 \n",
      " 1   Класс                          2356 non-null   object\n",
      " 2   Пол                            2356 non-null   object\n",
      " 3   Номер варианта                 2356 non-null   int64 \n",
      " 4   Задания с кратким ответом      2356 non-null   object\n",
      " 5   Задания с развёрнутым ответом  2356 non-null   object\n",
      " 6   Первичный балл                 2356 non-null   int64 \n",
      " 7   Балл                           2356 non-null   int64 \n",
      "dtypes: int64(4), object(4)\n",
      "memory usage: 147.4+ KB\n"
     ]
    }
   ],
   "source": [
    "# Сделайте описательную статистику полученных данных.\n",
    "MIN_POINTS = 27\n",
    "DETAILED_ANSWERS_TASKS_POINTS = [2, 2, 2, 3, 3, 4, 4]\n",
    "\n",
    "df = df.iloc[:,:-1]\n",
    "df = df.iloc[:-1, :]\n",
    "df['№ школы'] = df['№ школы'].astype(int)\n",
    "df['Номер варианта'] = df['Номер варианта'].astype(int)\n",
    "df['Задания с развёрнутым ответом'] = df['Задания с развёрнутым ответом'].str.replace(r'\\(\\d\\)', '', regex=True)\n",
    "df['Первичный балл'] = df['Первичный балл'].astype(int)\n",
    "df['Балл'] = df['Балл'].astype(int)\n",
    "\n",
    "df.info()"
   ]
  },
  {
   "cell_type": "code",
   "execution_count": 78,
   "metadata": {},
   "outputs": [
    {
     "data": {
      "text/html": [
       "<div>\n",
       "<style scoped>\n",
       "    .dataframe tbody tr th:only-of-type {\n",
       "        vertical-align: middle;\n",
       "    }\n",
       "\n",
       "    .dataframe tbody tr th {\n",
       "        vertical-align: top;\n",
       "    }\n",
       "\n",
       "    .dataframe thead th {\n",
       "        text-align: right;\n",
       "    }\n",
       "</style>\n",
       "<table border=\"1\" class=\"dataframe\">\n",
       "  <thead>\n",
       "    <tr style=\"text-align: right;\">\n",
       "      <th></th>\n",
       "      <th>№ школы</th>\n",
       "      <th>Класс</th>\n",
       "      <th>Пол</th>\n",
       "      <th>Номер варианта</th>\n",
       "      <th>Задания с кратким ответом</th>\n",
       "      <th>Задания с развёрнутым ответом</th>\n",
       "      <th>Первичный балл</th>\n",
       "      <th>Балл</th>\n",
       "    </tr>\n",
       "  </thead>\n",
       "  <tbody>\n",
       "    <tr>\n",
       "      <th>2351</th>\n",
       "      <td>136</td>\n",
       "      <td>11</td>\n",
       "      <td>М</td>\n",
       "      <td>337</td>\n",
       "      <td>++++++++++++</td>\n",
       "      <td>2223301</td>\n",
       "      <td>25</td>\n",
       "      <td>92</td>\n",
       "    </tr>\n",
       "    <tr>\n",
       "      <th>2352</th>\n",
       "      <td>136</td>\n",
       "      <td>11</td>\n",
       "      <td>М</td>\n",
       "      <td>341</td>\n",
       "      <td>++-+++++++++</td>\n",
       "      <td>2212241</td>\n",
       "      <td>25</td>\n",
       "      <td>92</td>\n",
       "    </tr>\n",
       "    <tr>\n",
       "      <th>2353</th>\n",
       "      <td>136</td>\n",
       "      <td>11</td>\n",
       "      <td>М</td>\n",
       "      <td>341</td>\n",
       "      <td>++++++++++++</td>\n",
       "      <td>2121342</td>\n",
       "      <td>27</td>\n",
       "      <td>96</td>\n",
       "    </tr>\n",
       "    <tr>\n",
       "      <th>2354</th>\n",
       "      <td>136</td>\n",
       "      <td>11</td>\n",
       "      <td>М</td>\n",
       "      <td>343</td>\n",
       "      <td>++++++++++++</td>\n",
       "      <td>2220342</td>\n",
       "      <td>27</td>\n",
       "      <td>96</td>\n",
       "    </tr>\n",
       "    <tr>\n",
       "      <th>2355</th>\n",
       "      <td>136</td>\n",
       "      <td>11</td>\n",
       "      <td>Ж</td>\n",
       "      <td>337</td>\n",
       "      <td>++++++++++++</td>\n",
       "      <td>2220342</td>\n",
       "      <td>27</td>\n",
       "      <td>96</td>\n",
       "    </tr>\n",
       "  </tbody>\n",
       "</table>\n",
       "</div>"
      ],
      "text/plain": [
       "      № школы Класс Пол  Номер варианта Задания с кратким ответом  \\\n",
       "2351      136    11   М             337              ++++++++++++   \n",
       "2352      136    11   М             341              ++-+++++++++   \n",
       "2353      136    11   М             341              ++++++++++++   \n",
       "2354      136    11   М             343              ++++++++++++   \n",
       "2355      136    11   Ж             337              ++++++++++++   \n",
       "\n",
       "     Задания с развёрнутым ответом  Первичный балл  Балл  \n",
       "2351                       2223301              25    92  \n",
       "2352                       2212241              25    92  \n",
       "2353                       2121342              27    96  \n",
       "2354                       2220342              27    96  \n",
       "2355                       2220342              27    96  "
      ]
     },
     "execution_count": 78,
     "metadata": {},
     "output_type": "execute_result"
    }
   ],
   "source": [
    "df.tail(5)"
   ]
  },
  {
   "cell_type": "code",
   "execution_count": 79,
   "metadata": {},
   "outputs": [
    {
     "name": "stdout",
     "output_type": "stream",
     "text": [
      "Процент учащихся, выполнивших работу ниже среднего: 48.01%\n"
     ]
    }
   ],
   "source": [
    "# Найдите процент учащихся, выполнивших работу ниже среднего.\n",
    "mean_score = df['Балл'].mean()\n",
    "\n",
    "total_students = len(df)\n",
    "below_average_count = (df['Балл'] < mean_score).sum()\n",
    "\n",
    "print(f\"Процент учащихся, выполнивших работу ниже среднего: {((below_average_count / total_students) * 100):.2f}%\")"
   ]
  },
  {
   "cell_type": "code",
   "execution_count": 80,
   "metadata": {},
   "outputs": [
    {
     "name": "stdout",
     "output_type": "stream",
     "text": [
      "Процент учащихся, не сдавших: 9.21%\n"
     ]
    }
   ],
   "source": [
    "#Найти процент учащихся не сдавших экзамен.\n",
    "failed_count = (df['Балл'] < MIN_POINTS).sum()\n",
    "\n",
    "print(f\"Процент учащихся, не сдавших: {((failed_count / total_students) * 100):.2f}%\")"
   ]
  },
  {
   "cell_type": "code",
   "execution_count": 81,
   "metadata": {},
   "outputs": [
    {
     "data": {
      "image/png": "[encoded data removed]",
      "text/plain": [
       "<Figure size 500x500 with 1 Axes>"
      ]
     },
     "metadata": {},
     "output_type": "display_data"
    }
   ],
   "source": [
    "# Постройте круговую диаграмму, показывающую распределение сдавших и не сдавших экзамен.\n",
    "passed_count = len(df) - failed_count\n",
    "\n",
    "labels = ['Сдали', 'Не сдали']\n",
    "sizes = [passed_count, failed_count]\n",
    "colors = ['#66b3ff', '#ff6666']\n",
    "explode = (0.1, 0)\n",
    "\n",
    "plt.figure(figsize=(5, 5))\n",
    "plt.pie(sizes, labels=labels, colors=colors, explode=explode, autopct='%1.2f%%', startangle=160)\n",
    "plt.title('Распределение учащихся по сдаче экзамена')\n",
    "plt.axis('equal')  # Обеспечивает круглый вид\n",
    "plt.show()"
   ]
  },
  {
   "cell_type": "code",
   "execution_count": 82,
   "metadata": {},
   "outputs": [
    {
     "data": {
      "image/png": "[encoded data removed]",
      "text/plain": [
       "<Figure size 1000x600 with 1 Axes>"
      ]
     },
     "metadata": {},
     "output_type": "display_data"
    }
   ],
   "source": [
    "# Построение графика ядерной оценки плотности распределения баллов\n",
    "plt.figure(figsize=(10, 6))\n",
    "sns.kdeplot(df['Балл'], fill=True, color='blue')\n",
    "plt.title('Ядерная оценка плотности распределения баллов за экзамен')\n",
    "plt.xlabel('Баллы (ед.)')\n",
    "plt.ylabel('Плотность вероятности (число наблюдений на балл /100)')\n",
    "plt.grid(True)\n",
    "plt.show()"
   ]
  },
  {
   "cell_type": "code",
   "execution_count": 83,
   "metadata": {},
   "outputs": [
    {
     "name": "stdout",
     "output_type": "stream",
     "text": [
      "Процент юношей: 47.16%\n",
      "Процент девушек: 52.84%\n"
     ]
    }
   ],
   "source": [
    "# Какое процентное соотношение юношей и девушек писало данный экзамен?\n",
    "man_count = (df['Пол'] == 'М').sum()\n",
    "woman_count = (df['Пол'] == 'Ж').sum()\n",
    "\n",
    "print(f\"Процент юношей: {((man_count / total_students) * 100):.2f}%\")\n",
    "print(f\"Процент девушек: {((woman_count / total_students) * 100):.2f}%\")"
   ]
  },
  {
   "cell_type": "code",
   "execution_count": 84,
   "metadata": {},
   "outputs": [
    {
     "name": "stdout",
     "output_type": "stream",
     "text": [
      "Школ принимали участие: 17\n"
     ]
    }
   ],
   "source": [
    "#Сколько школ принимало участие в экзамене?\n",
    "print(f\"Школ принимали участие: {df[\"№ школы\"].nunique()}\")"
   ]
  },
  {
   "cell_type": "code",
   "execution_count": 85,
   "metadata": {},
   "outputs": [
    {
     "name": "stdout",
     "output_type": "stream",
     "text": [
      "Заданий с кратким ответом: 12\n",
      "Заданий с развернутым ответом: 7\n"
     ]
    }
   ],
   "source": [
    "# Сколько всего заданий с кратким ответом? С развернутым ответом?\n",
    "print(f\"Заданий с кратким ответом: {len(df[\"Задания с кратким ответом\"][0])}\")\n",
    "print(f\"Заданий с развернутым ответом: {len(df[\"Задания с развёрнутым ответом\"][0])}\")"
   ]
  },
  {
   "cell_type": "code",
   "execution_count": 86,
   "metadata": {},
   "outputs": [
    {
     "name": "stdout",
     "output_type": "stream",
     "text": [
      "Процент успешного выполнения задания 1: 89.26%\n",
      "Процент неуспешного выполнения задания 1: 10.74%\n",
      "Процент успешного выполнения задания 2: 95.33%\n",
      "Процент неуспешного выполнения задания 2: 4.67%\n",
      "Процент успешного выполнения задания 3: 92.78%\n",
      "Процент неуспешного выполнения задания 3: 7.22%\n",
      "Процент успешного выполнения задания 4: 91.00%\n",
      "Процент неуспешного выполнения задания 4: 9.00%\n",
      "Процент успешного выполнения задания 5: 88.50%\n",
      "Процент неуспешного выполнения задания 5: 11.50%\n",
      "Процент успешного выполнения задания 6: 73.17%\n",
      "Процент неуспешного выполнения задания 6: 26.83%\n",
      "Процент успешного выполнения задания 7: 37.48%\n",
      "Процент неуспешного выполнения задания 7: 62.52%\n",
      "Процент успешного выполнения задания 8: 47.84%\n",
      "Процент неуспешного выполнения задания 8: 52.16%\n",
      "Процент успешного выполнения задания 9: 91.85%\n",
      "Процент неуспешного выполнения задания 9: 8.15%\n",
      "Процент успешного выполнения задания 10: 71.48%\n",
      "Процент неуспешного выполнения задания 10: 28.52%\n",
      "Процент успешного выполнения задания 11: 59.25%\n",
      "Процент неуспешного выполнения задания 11: 40.75%\n",
      "Процент успешного выполнения задания 12: 46.22%\n",
      "Процент неуспешного выполнения задания 12: 53.78%\n"
     ]
    }
   ],
   "source": [
    "# Пусть задания с кратким ответом будут задания типа В. Соответственно всего по экзамену вопросов класса В: $В_1$, ... $В_к$\n",
    "# Посчитайте процент выполненных и невыполненных заданий по каждому вопросу класса В.\n",
    "tasks_succeded = [0 for _ in range(len(df[\"Задания с кратким ответом\"][0]))]\n",
    "tasks_failed = tasks_succeded.copy()\n",
    "\n",
    "for row in df[\"Задания с кратким ответом\"]:\n",
    "    for task_num in range(len(row)):\n",
    "        if row[task_num] == '+':\n",
    "            tasks_succeded[task_num] += 1\n",
    "        else:\n",
    "            tasks_failed[task_num] += 1\n",
    "\n",
    "for task_num in range(len(tasks_succeded)):\n",
    "    print(f\"Процент успешного выполнения задания {task_num + 1}: {(tasks_succeded[task_num] / total_students * 100):.2f}%\")\n",
    "    print(f\"Процент неуспешного выполнения задания {task_num + 1}: {(tasks_failed[task_num] / total_students * 100):.2f}%\")"
   ]
  },
  {
   "cell_type": "code",
   "execution_count": 87,
   "metadata": {},
   "outputs": [
    {
     "name": "stdout",
     "output_type": "stream",
     "text": [
      "Процент успешного выполнения задания 1: 26.15%\n",
      "Процент неуспешного выполнения задания 1: 66.09%\n",
      "Процент успешного выполнения задания 2: 7.47%\n",
      "Процент неуспешного выполнения задания 2: 84.13%\n",
      "Процент успешного выполнения задания 3: 12.56%\n",
      "Процент неуспешного выполнения задания 3: 84.42%\n",
      "Процент успешного выполнения задания 4: 0.51%\n",
      "Процент неуспешного выполнения задания 4: 97.28%\n",
      "Процент успешного выполнения задания 5: 1.10%\n",
      "Процент неуспешного выполнения задания 5: 96.60%\n",
      "Процент успешного выполнения задания 6: 0.38%\n",
      "Процент неуспешного выполнения задания 6: 98.90%\n",
      "Процент успешного выполнения задания 7: 0.04%\n",
      "Процент неуспешного выполнения задания 7: 96.60%\n"
     ]
    }
   ],
   "source": [
    "# Аналогично и с типом С (ответы с развернутым ответом)\n",
    "tasks_succeded = [0 for _ in range(len(df[\"Задания с развёрнутым ответом\"][0]))]\n",
    "tasks_failed = tasks_succeded.copy()\n",
    "\n",
    "for row in df[\"Задания с развёрнутым ответом\"]:\n",
    "    for task_num in range(len(row)):\n",
    "        if int(row[task_num]) == DETAILED_ANSWERS_TASKS_POINTS[task_num]:\n",
    "            tasks_succeded[task_num] += 1\n",
    "        elif int(row[task_num]) == 0:\n",
    "            tasks_failed[task_num] += 1\n",
    "\n",
    "for task_num in range(len(tasks_succeded)):\n",
    "    print(f\"Процент успешного выполнения задания {task_num + 1}: {(tasks_succeded[task_num] / total_students * 100):.2f}%\")\n",
    "    print(f\"Процент неуспешного выполнения задания {task_num + 1}: {(tasks_failed[task_num] / total_students * 100):.2f}%\")"
   ]
  },
  {
   "cell_type": "code",
   "execution_count": 89,
   "metadata": {},
   "outputs": [
    {
     "name": "stdout",
     "output_type": "stream",
     "text": [
      "Школа 133, школа 136\n",
      "Успешно выполненные задания B: [1039, 9196]\n",
      "Успешно выполненные задания C (более 50%): [70, 908]\n",
      "Средний балл юношей: [49.66 52.4 ]\n",
      "Средний балл девушек: [48.78 50.98]\n"
     ]
    }
   ],
   "source": [
    "# Сделайте анализ по двум школам:\n",
    "#    1. по всем выполненным заданиям типа В\n",
    "#    2. по заданиям типа С больше 50%\n",
    "#    3. по среднему баллу юношей и девушек\n",
    "\n",
    "schools = [133, 136]\n",
    "\n",
    "success_b_tasks = [0, 0]\n",
    "success_c_tasks = [0, 0]\n",
    "man_total_score = [0, 0]\n",
    "man_count = [0, 0]\n",
    "woman_total_score = [0, 0]\n",
    "woman_count = [0, 0]\n",
    "\n",
    "for _, row in df.iterrows():\n",
    "    if str(schools[0]) in str(row[\"№ школы\"]):\n",
    "        success_b_tasks[0] += row[\"Задания с кратким ответом\"].count(\"+\")\n",
    "        for task_num in range(len(row[\"Задания с развёрнутым ответом\"])):\n",
    "            if int(row[\"Задания с развёрнутым ответом\"][task_num]) >= DETAILED_ANSWERS_TASKS_POINTS[task_num] / 2:\n",
    "                success_c_tasks[0] += 1\n",
    "        if row[\"Пол\"] == \"М\":\n",
    "            man_count[0] += 1\n",
    "            man_total_score[0] += row[\"Балл\"]\n",
    "        else:\n",
    "            woman_total_score[0] += row[\"Балл\"]\n",
    "            woman_count[0] += 1\n",
    "    elif str(schools[1]) in str(row[\"№ школы\"]):\n",
    "        success_b_tasks[1] += row[\"Задания с кратким ответом\"].count(\"+\")\n",
    "        for task_num in range(len(row[\"Задания с развёрнутым ответом\"])):\n",
    "            if int(row[\"Задания с развёрнутым ответом\"][task_num]) >= DETAILED_ANSWERS_TASKS_POINTS[task_num] / 2:\n",
    "                success_c_tasks[1] += 1\n",
    "        if row[\"Пол\"] == \"М\":\n",
    "            man_count[1] += 1\n",
    "            man_total_score[1] += row[\"Балл\"]\n",
    "        else:\n",
    "            woman_count[1] += 1\n",
    "            woman_total_score[1] += row[\"Балл\"]\n",
    "man_mean_score = [man_total_score[0] / man_count[0], man_total_score[1] / man_count[1]]\n",
    "woman_mean_score = [woman_total_score[0] / woman_count[0], woman_total_score[1] / woman_count[1]]\n",
    "\n",
    "print(f\"Школа {schools[0]}, школа {schools[1]}\")\n",
    "print(f\"Успешно выполненные задания B: {success_b_tasks}\")\n",
    "print(f\"Успешно выполненные задания C (более 50%): {success_c_tasks}\")\n",
    "print(f\"Средний балл юношей: {np.round(man_mean_score, 2)}\")\n",
    "print(f\"Средний балл девушек: {np.round(woman_mean_score, 2)}\")"
   ]
  }
 ],
 "metadata": {
  "kernelspec": {
   "display_name": "venv",
   "language": "python",
   "name": "python3"
  },
  "language_info": {
   "codemirror_mode": {
    "name": "ipython",
    "version": 3
   },
   "file_extension": ".py",
   "mimetype": "text/x-python",
   "name": "python",
   "nbconvert_exporter": "python",
   "pygments_lexer": "ipython3",
   "version": "3.12.6"
  }
 },
 "nbformat": 4,
 "nbformat_minor": 2
}
